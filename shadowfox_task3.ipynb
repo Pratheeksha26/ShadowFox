{
  "nbformat": 4,
  "nbformat_minor": 0,
  "metadata": {
    "colab": {
      "provenance": [],
      "authorship_tag": "ABX9TyNGIJmhcpY972fUfqZaocMY"
    },
    "kernelspec": {
      "name": "python3",
      "display_name": "Python 3"
    },
    "language_info": {
      "name": "python"
    }
  },
  "cells": [
    {
      "cell_type": "markdown",
      "source": [
        "# **1. LM Selection: BERT**\n",
        "For this project, we select BERT (Bidirectional Encoder Representations from Transformers), a state-of-the-art NLP model. BERT's strength lies in its ability to understand context from both directions (left-to-right and right-to-left), making it a strong candidate for tasks such as sentiment analysis, text classification, named entity recognition, and question answering. BERT is highly adaptable for different NLP tasks and can be fine-tuned on domain-specific data, which aligns well with the research focus on contextual understanding."
      ],
      "metadata": {
        "id": "ib-qjy_LPwYy"
      }
    },
    {
      "cell_type": "markdown",
      "source": [
        "# **2. Implementation**\n",
        "Importing the Necessary Libraries"
      ],
      "metadata": {
        "id": "BdY73AgvQAfE"
      }
    },
    {
      "cell_type": "code",
      "execution_count": 80,
      "metadata": {
        "id": "FD8F1VaFPrk0"
      },
      "outputs": [],
      "source": [
        "from transformers import BertTokenizer, BertForSequenceClassification\n",
        "from transformers import pipeline\n",
        "import torch"
      ]
    },
    {
      "cell_type": "markdown",
      "source": [
        "Load Pretrained BERT Model and Tokenizer"
      ],
      "metadata": {
        "id": "eQMJQFltQM21"
      }
    },
    {
      "cell_type": "code",
      "source": [
        "from transformers import DistilBertTokenizer, DistilBertForSequenceClassification\n",
        "\n",
        "# Use DistilBERT fine-tuned for sentiment analysis\n",
        "model_name = \"distilbert-base-uncased-finetuned-sst-2-english\"\n",
        "tokenizer = DistilBertTokenizer.from_pretrained(model_name)\n",
        "model = DistilBertForSequenceClassification.from_pretrained(model_name)\n"
      ],
      "metadata": {
        "id": "sybUJz46QRnY"
      },
      "execution_count": 81,
      "outputs": []
    },
    {
      "cell_type": "markdown",
      "source": [
        "# **3. Exploration and Analysis**\n",
        "BERT is pre-trained on the task of Masked Language Modeling and Next Sentence Prediction. Here, we will explore its capabilities through a text classification task, like sentiment analysis.\n",
        "\n",
        "Example: Sentiment Analysis Pipeline"
      ],
      "metadata": {
        "id": "z7sHJdbxQUv8"
      }
    },
    {
      "cell_type": "code",
      "source": [
        "# Load the specific pre-trained BERT model for sentiment analysis\n",
        "nlp_pipeline = pipeline(\"sentiment-analysis\", model=\"distilbert-base-uncased-finetuned-sst-2-english\", revision=\"af0f99b\")\n",
        "\n",
        "# Provide sample inputs\n",
        "texts = [\n",
        "    \"I love natural language processing!\",\n",
        "    \"The weather is terrible today.\",\n",
        "    \"I am very excited about this new AI model!\"\n",
        "]\n",
        "\n",
        "# Run sentiment analysis\n",
        "results = nlp_pipeline(texts)\n",
        "\n",
        "# Output the results\n",
        "for text, result in zip(texts, results):\n",
        "    print(f\"Text: {text}\\nSentiment: {result['label']}, Confidence: {result['score']:.4f}\\n\")\n"
      ],
      "metadata": {
        "colab": {
          "base_uri": "https://localhost:8080/"
        },
        "id": "iK3HjfhSQfwE",
        "outputId": "1a4f3344-0ec0-45d6-8a97-783ea261e17d"
      },
      "execution_count": 82,
      "outputs": [
        {
          "output_type": "stream",
          "name": "stdout",
          "text": [
            "Text: I love natural language processing!\n",
            "Sentiment: POSITIVE, Confidence: 0.9999\n",
            "\n",
            "Text: The weather is terrible today.\n",
            "Sentiment: NEGATIVE, Confidence: 0.9987\n",
            "\n",
            "Text: I am very excited about this new AI model!\n",
            "Sentiment: POSITIVE, Confidence: 0.9998\n",
            "\n"
          ]
        }
      ]
    },
    {
      "cell_type": "markdown",
      "source": [
        "**Analysis:**\n",
        "\n",
        "*   Contextual Understanding: BERT successfully classifies positive and negative sentiments based on nuanced language.\n",
        "*   Confidence Scores: The high confidence scores reflect its strong performance on simple inputs.\n",
        "\n"
      ],
      "metadata": {
        "id": "fYcjsy8xQ0Pj"
      }
    },
    {
      "cell_type": "markdown",
      "source": [
        "**Experimenting with Masked Language Modeling**\n",
        "\n",
        "To explore BERT's ability to understand context, we'll use Masked Language Modeling (MLM), where BERT predicts missing words from a sentence."
      ],
      "metadata": {
        "id": "CyOX4Y34RAUL"
      }
    },
    {
      "cell_type": "code",
      "source": [
        "import torch\n",
        "from transformers import BertTokenizer, BertForMaskedLM\n",
        "\n",
        "# Use the correct BERT model for MLM\n",
        "model_name = \"bert-base-uncased\"  # This is suitable for MLM\n",
        "tokenizer = BertTokenizer.from_pretrained(model_name)\n",
        "mlm_model = BertForMaskedLM.from_pretrained(model_name)\n",
        "\n",
        "# Tokenizer function for MLM\n",
        "def encode_mlm(text):\n",
        "    return tokenizer(text, return_tensors=\"pt\")\n",
        "\n",
        "# Sample sentence with a masked word\n",
        "mlm_text = \"I love [MASK] language processing.\"\n",
        "\n",
        "# Tokenize the input\n",
        "inputs = encode_mlm(mlm_text)\n",
        "\n",
        "# Get the predictions for the masked token\n",
        "with torch.no_grad():\n",
        "    outputs = mlm_model(**inputs)\n",
        "    predictions = outputs.logits\n",
        "\n",
        "# Get the predicted word for the masked token\n",
        "mask_token_index = torch.where(inputs[\"input_ids\"] == tokenizer.mask_token_id)[1]\n",
        "predicted_token_id = torch.argmax(predictions[0, mask_token_index], dim=-1)\n",
        "predicted_token = tokenizer.decode(predicted_token_id)\n",
        "\n",
        "print(f\"Predicted token: {predicted_token}\")\n"
      ],
      "metadata": {
        "colab": {
          "base_uri": "https://localhost:8080/"
        },
        "id": "GuLlUoJkRHFT",
        "outputId": "c6931dbb-fbf2-4f6c-82da-3d9cf9465a18"
      },
      "execution_count": 85,
      "outputs": [
        {
          "output_type": "stream",
          "name": "stderr",
          "text": [
            "Some weights of the model checkpoint at bert-base-uncased were not used when initializing BertForMaskedLM: ['bert.pooler.dense.bias', 'bert.pooler.dense.weight', 'cls.seq_relationship.bias', 'cls.seq_relationship.weight']\n",
            "- This IS expected if you are initializing BertForMaskedLM from the checkpoint of a model trained on another task or with another architecture (e.g. initializing a BertForSequenceClassification model from a BertForPreTraining model).\n",
            "- This IS NOT expected if you are initializing BertForMaskedLM from the checkpoint of a model that you expect to be exactly identical (initializing a BertForSequenceClassification model from a BertForSequenceClassification model).\n"
          ]
        },
        {
          "output_type": "stream",
          "name": "stdout",
          "text": [
            "Predicted token: natural\n"
          ]
        }
      ]
    },
    {
      "cell_type": "markdown",
      "source": [
        "**Analysis:**\n",
        "\n",
        "\n",
        "*   Contextual Understanding: BERT correctly predicts that the missing word is \"natural,\" indicating that it understands the context of NLP (natural language processing).\n",
        "\n",
        "\n",
        "\n"
      ],
      "metadata": {
        "id": "bt-vSNKPRPPz"
      }
    },
    {
      "cell_type": "markdown",
      "source": [
        "# **4. Research Questions and Objectives**\n",
        "\n",
        "**How well can BERT predict masked words in sentences across various contexts?**\n",
        "\n",
        "BERT (Bidirectional Encoder Representations from Transformers) performs exceptionally well in predicting masked words in sentences because it’s pre-trained on a massive corpus using the masked language model (MLM) objective. This approach enables BERT to predict a masked word by considering both the left and right contexts simultaneously, which enhances its ability to understand nuances in sentence structure and semantics. It excels in filling in missing words when the context is clear and well-formed.\n",
        "\n",
        "However, BERT might struggle when the sentence is ambiguous or lacks sufficient context for precise prediction. Its ability to predict a masked word diminishes in cases where the masked token relies heavily on world knowledge, long-term dependencies, or subtle context clues.\n",
        "\n",
        "\n",
        "---\n",
        "\n",
        "\n",
        "**What are BERT’s limitations in understanding complex multi-sentence contexts?**\n",
        "\n",
        "BERT is primarily trained for sentence-level tasks, meaning its understanding of context works best at the level of individual sentences or closely related sentence pairs. For tasks that require deep comprehension of complex multi-sentence passages (such as long narratives or documents), BERT's fixed input size (usually 512 tokens) can become a limitation. It may miss long-range dependencies across sentences when the context extends beyond the input length. While BERT can handle local context well, it tends to underperform in tasks where a full document’s meaning or cross-sentence relationships are critical.\n",
        "\n",
        "Moreover, BERT's architecture doesn't have an explicit mechanism to track information across sentences, which can limit its effectiveness for tasks requiring discourse-level reasoning.\n",
        "\n",
        "\n",
        "---\n",
        "\n",
        "\n",
        "**Can BERT maintain its effectiveness when dealing with domain-specific language (e.g., medical, legal)?**\n",
        "\n",
        "BERT's general model, pre-trained on a diverse corpus (like Wikipedia and BooksCorpus), can struggle with highly domain-specific language, such as medical, legal, or technical terminology. For instance, in the medical domain, BERT might misinterpret terms with specialized meanings or fail to capture the intricate relationships between domain-specific terms.\n",
        "\n",
        "However, domain-specific versions of BERT, such as BioBERT (for biomedical text) or LegalBERT (for legal texts), have been fine-tuned on specialized corpora and can handle domain-specific language with much higher effectiveness. These models retain the general language understanding from BERT’s pre-training but are more attuned to the specialized vocabulary and structure of a particular domain.\n",
        "\n",
        "\n",
        "---\n",
        "\n",
        "\n",
        "**How does BERT's performance compare with other language models like GPT for context-based understanding?**\n",
        "\n",
        "BERT and GPT (Generative Pre-trained Transformer) are both Transformer-based models, but they are optimized for different tasks. BERT is designed as a bidirectional model, making it strong in tasks that require deep understanding of the sentence (like filling in masked words, question-answering, and classification). It excels in tasks where understanding context in both directions is key.\n",
        "\n",
        "GPT, on the other hand, is unidirectional, typically processing text left-to-right, which makes it more suitable for generative tasks like text completion and dialogue systems. GPT models, especially larger versions like GPT-3, often perform better than BERT in generating coherent text and handling open-ended tasks because of their size and training method. However, for specific tasks that require deep contextual understanding, such as masked word prediction or sentiment analysis, BERT may outperform GPT due to its bidirectional nature.\n",
        "\n",
        "For general context-based understanding, GPT models are more versatile in generating responses and handling broader contexts, but BERT can excel in focused, fine-tuned applications, especially when used in a domain-specific manner."
      ],
      "metadata": {
        "id": "uIUShO30RgGS"
      }
    },
    {
      "cell_type": "markdown",
      "source": [
        "# **5. Visualization of Results**\n",
        "**Sentiment Analysis Results Visualization**\n",
        "\n",
        "We can use a bar chart to visualize the confidence levels of the model for different inputs."
      ],
      "metadata": {
        "id": "lMYc0BJkR3bf"
      }
    },
    {
      "cell_type": "code",
      "source": [
        "import matplotlib.pyplot as plt\n",
        "\n",
        "# Data for visualization (based on your sentiment analysis results)\n",
        "texts = [\n",
        "    \"I love natural language processing!\",\n",
        "    \"The weather is terrible today.\",\n",
        "    \"I am very excited about this new AI model!\"\n",
        "]\n",
        "sentiments = [\"POSITIVE\", \"NEGATIVE\", \"POSITIVE\"]\n",
        "scores = [0.9999, 0.9987, 0.9998]\n",
        "\n",
        "# Create a bar chart\n",
        "plt.figure(figsize=(10, 6))\n",
        "\n",
        "# Generate bar chart with sentiment labels as colors\n",
        "colors = ['green' if sentiment == 'POSITIVE' else 'red' for sentiment in sentiments]\n",
        "plt.barh(texts, scores, color=colors)\n",
        "\n",
        "# Labeling the chart\n",
        "plt.xlabel('Confidence Score')\n",
        "plt.title('Sentiment Analysis Confidence Scores')\n",
        "\n",
        "# Add sentiment labels to each bar\n",
        "for i in range(len(scores)):\n",
        "    plt.text(scores[i] - 0.1, i, sentiments[i], color='white', fontweight='bold')\n",
        "\n",
        "# Display the plot\n",
        "plt.show()\n"
      ],
      "metadata": {
        "colab": {
          "base_uri": "https://localhost:8080/",
          "height": 564
        },
        "id": "DCh2AcydRM4H",
        "outputId": "6fd30e87-225c-46d1-bf60-d4af673584c2"
      },
      "execution_count": 84,
      "outputs": [
        {
          "output_type": "display_data",
          "data": {
            "text/plain": [
              "<Figure size 1000x600 with 1 Axes>"
            ],
            "image/png": "[encoded data removed]"
          },
          "metadata": {}
        }
      ]
    },
    {
      "cell_type": "markdown",
      "source": [
        "# **6. Project Alignment and Evaluation**\n",
        "\n",
        "\n",
        "*   **Ethical Considerations:** Since BERT uses pre-trained data, biases present in the training data may surface in its predictions. Careful consideration must be taken in domains like medical or legal fields where misinformation could lead to harmful decisions.\n",
        "*   **Best Practices:** Pre-processing of text, careful model evaluation, and tuning hyperparameters are necessary to ensure the model generalizes well across tasks."
      ],
      "metadata": {
        "id": "Ey-c2dHjSFrM"
      }
    },
    {
      "cell_type": "markdown",
      "source": [
        "# **7. Conclusion and Insights**\n",
        "\n",
        "\n",
        "*   **Findings:** BERT shows strong contextual understanding, performing well on tasks like sentiment analysis and masked language modeling. It can predict masked words effectively and classifies sentiments with high confidence.\n",
        "*   **Applications:** BERT can be used in applications such as chatbots, sentiment analysis systems, and information retrieval. However, its limitations in domain-specific knowledge without fine-tuning highlight areas for improvement.\n",
        "*   **Potential Improvements:** Fine-tuning BERT on specific domains (e.g., legal or medical texts) can improve performance. Additionally, integrating larger models like RoBERTa or T5 can enhance contextual predictions further.\n",
        "\n",
        "\n",
        "\n"
      ],
      "metadata": {
        "id": "zoqt4d4-SXuV"
      }
    }
  ]
}