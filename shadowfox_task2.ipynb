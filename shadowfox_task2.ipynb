{
  "nbformat": 4,
  "nbformat_minor": 0,
  "metadata": {
    "colab": {
      "provenance": [],
      "authorship_tag": "ABX9TyOjj0BAB2Hyw0uCIVO3WLow"
    },
    "kernelspec": {
      "name": "python3",
      "display_name": "Python 3"
    },
    "language_info": {
      "name": "python"
    }
  },
  "cells": [
    {
      "cell_type": "code",
      "source": [
        "import pandas as pd\n",
        "from sklearn.model_selection import train_test_split\n",
        "from sklearn.preprocessing import OneHotEncoder\n",
        "from sklearn.linear_model import LinearRegression\n",
        "from sklearn.ensemble import RandomForestRegressor\n",
        "from sklearn.tree import DecisionTreeRegressor\n",
        "from sklearn.svm import SVR\n",
        "from sklearn.metrics import mean_absolute_error, r2_score\n",
        "\n",
        "# Load the dataset\n",
        "df = pd.read_csv('/content/car.csv')\n",
        "df.dropna(inplace=True)\n",
        "\n",
        "# Step 1: Calculate car age from 'Year' and drop 'Car_Name'\n",
        "df['Car_Age'] = 2024 - df['Year']\n",
        "df.drop(['Car_Name', 'Year'], axis=1, inplace=True)\n",
        "\n",
        "# Step 2: Encoding categorical variables\n",
        "categorical_columns = ['Fuel_Type', 'Seller_Type', 'Transmission']\n",
        "\n",
        "# Use OneHotEncoder to encode categorical columns\n",
        "encoder = OneHotEncoder(drop='first', sparse_output=False)\n",
        "encoded_data = encoder.fit_transform(df[categorical_columns])\n",
        "encoded_df = pd.DataFrame(encoded_data, columns=encoder.get_feature_names_out(categorical_columns))\n",
        "\n",
        "# Step 3: Merge encoded data with the original dataframe (after dropping original categorical columns)\n",
        "df_final = pd.concat([df.drop(categorical_columns, axis=1), encoded_df], axis=1)\n",
        "\n",
        "# Step 4: Split data into features (X) and target (y)\n",
        "X = df_final.drop('Selling_Price', axis=1)\n",
        "y = df_final['Selling_Price']\n",
        "\n",
        "# Step 5: Split data into training and test sets\n",
        "X_train, X_test, y_train, y_test = train_test_split(X, y, test_size=0.2, random_state=42)\n",
        "\n",
        "# Step 6: Initialize the models\n",
        "models = {\n",
        "    'Linear Regression': LinearRegression(),\n",
        "    'Random Forest': RandomForestRegressor(random_state=42),\n",
        "    'Decision Tree': DecisionTreeRegressor(random_state=42)\n",
        "}\n",
        "\n",
        "# Step 7: Train and evaluate each model\n",
        "results = {}\n",
        "\n",
        "for model_name, model in models.items():\n",
        "    model.fit(X_train, y_train)\n",
        "    y_pred = model.predict(X_test)\n",
        "    mae = mean_absolute_error(y_test, y_pred)\n",
        "    r2 = r2_score(y_test, y_pred)\n",
        "    results[model_name] = {'MAE': mae, 'R-squared': r2}\n",
        "\n",
        "# Step 8: Display results\n",
        "for model_name, metrics in results.items():\n",
        "    print(f\"{model_name} - MAE: {metrics['MAE']}, R-squared: {metrics['R-squared']}\")\n",
        "\n",
        "# Optional: Predict selling price for a new car (user input)\n",
        "def predict_selling_price(model, present_price, kms_driven, fuel_type, seller_type, transmission, owner, car_age):\n",
        "    # Input preprocessing\n",
        "    input_data = pd.DataFrame([[present_price, kms_driven, owner, car_age,\n",
        "                                fuel_type == 'Diesel', fuel_type == 'Petrol',\n",
        "                                seller_type == 'Individual', transmission == 'Manual']],\n",
        "                              columns=X.columns)\n",
        "\n",
        "    # Predict the selling price\n",
        "    predicted_price = model.predict(input_data)\n",
        "    return predicted_price[0]\n",
        "\n",
        "# Example usage with the Random Forest model\n",
        "predicted_price = predict_selling_price(models['Random Forest'], 6.0, 50000, 'Petrol', 'Dealer', 'Manual', 0, 1)\n",
        "print(f\"Predicted Selling Price (Random Forest): {predicted_price}\")\n"
      ],
      "metadata": {
        "colab": {
          "base_uri": "https://localhost:8080/"
        },
        "id": "ssfcbxrtLAHa",
        "outputId": "758ab7c7-df22-49a7-9d43-917239afa4d9"
      },
      "execution_count": 10,
      "outputs": [
        {
          "output_type": "stream",
          "name": "stdout",
          "text": [
            "Linear Regression - MAE: 1.2162256821297004, R-squared: 0.848981302489908\n",
            "Random Forest - MAE: 0.63872131147541, R-squared: 0.9599938850484411\n",
            "Decision Tree - MAE: 0.8624590163934425, R-squared: 0.910720950876861\n",
            "Predicted Selling Price (Random Forest): 4.338499999999999\n"
          ]
        }
      ]
    }
  ]
}